{
 "cells": [
  {
   "cell_type": "markdown",
   "id": "847a9b08",
   "metadata": {},
   "source": [
    "# Modeling - Hyperparameter tuning (Adv-ML)\n",
    "\n",
    "    1. Gradient Boosting Trees\n",
    "    2. XGBoost\n",
    "    3. LightGBM\n",
    "    4. CatBoost\n"
   ]
  },
  {
   "cell_type": "code",
   "execution_count": 21,
   "id": "3f4fc232",
   "metadata": {},
   "outputs": [],
   "source": [
    "import pandas as pd\n",
    "import seaborn as sns\n",
    "import matplotlib.pyplot as plt\n",
    "import numpy as np\n",
    "from sklearn.preprocessing import RobustScaler\n",
    "from sklearn.preprocessing import StandardScaler\n",
    "from sklearn.decomposition import PCA\n",
    "from sklearn.metrics import classification_report, confusion_matrix \n",
    "from sklearn.svm import SVC\n",
    "from sklearn.model_selection import train_test_split\n",
    "from sklearn.model_selection import GridSearchCV \n",
    "from sklearn.ensemble import RandomForestClassifier\n",
    "from sklearn.ensemble import GradientBoostingClassifier\n",
    "from xgboost import XGBClassifier\n",
    "import warnings\n",
    "warnings.filterwarnings(\"ignore\")"
   ]
  },
  {
   "cell_type": "code",
   "execution_count": 18,
   "id": "a557f7ce",
   "metadata": {},
   "outputs": [],
   "source": [
    "train = pd.read_csv('../data/train_processed.csv', header=0)\n",
    "test = pd.read_csv('../data/test_processed.csv', header=0)"
   ]
  },
  {
   "cell_type": "code",
   "execution_count": 19,
   "id": "cbf28782",
   "metadata": {
    "scrolled": true
   },
   "outputs": [
    {
     "name": "stdout",
     "output_type": "stream",
     "text": [
      "Occurrences of Machine Failure:\n",
      "Value 0: 134281\n",
      "Value 1: 2148\n"
     ]
    }
   ],
   "source": [
    "failure_counts = train['Machine failure'].value_counts()\n",
    "\n",
    "# Print the counts\n",
    "print(\"Occurrences of Machine Failure:\")\n",
    "print(\"Value 0:\", failure_counts[0])\n",
    "print(\"Value 1:\", failure_counts[1])\n",
    "\n",
    "X = train.drop(['Machine failure'], axis=1)\n",
    "y = train['Machine failure'].values\n",
    "X_test = test"
   ]
  },
  {
   "cell_type": "code",
   "execution_count": 28,
   "id": "9247b3d7",
   "metadata": {},
   "outputs": [],
   "source": [
    "X_train, X_val, y_train, y_val = train_test_split(X, y, test_size=0.3, random_state=42)\n",
    "\n",
    "scaler = StandardScaler()\n",
    "X_train_scaled = scaler.fit_transform(X_train)\n",
    "X_test_scaled = scaler.transform(X_val)\n",
    "\n",
    "pca = PCA(n_components=125)  # Choose the number of components\n",
    "X_train_pca = pca.fit_transform(X_train_scaled)\n",
    "X_test_pca = pca.transform(X_test_scaled)"
   ]
  },
  {
   "cell_type": "code",
   "execution_count": 29,
   "id": "42e8547d",
   "metadata": {},
   "outputs": [],
   "source": [
    "param_grid = { \n",
    "    'n_estimators': [10, 50, 100, 200],\n",
    "    'max_features': ['auto', 'sqrt', 'log2'],\n",
    "    'max_depth' : [4,5,6,7,8],\n",
    "    'criterion' :['gini', 'entropy']\n",
    "}\n"
   ]
  },
  {
   "cell_type": "code",
   "execution_count": 30,
   "id": "90e73ad6",
   "metadata": {
    "scrolled": true
   },
   "outputs": [
    {
     "data": {
      "text/plain": [
       "GridSearchCV(cv=5, estimator=RandomForestClassifier(),\n",
       "             param_grid={'criterion': ['gini', 'entropy'],\n",
       "                         'max_depth': [4, 5, 6, 7, 8],\n",
       "                         'max_features': ['auto', 'sqrt', 'log2'],\n",
       "                         'n_estimators': [10, 50, 100, 200]})"
      ]
     },
     "execution_count": 30,
     "metadata": {},
     "output_type": "execute_result"
    }
   ],
   "source": [
    "rfc = RandomForestClassifier()\n",
    "rfcCV = GridSearchCV(estimator=rfc, param_grid=param_grid, cv= 5)\n",
    "rfcCV.fit(X_train, y_train)"
   ]
  },
  {
   "cell_type": "code",
   "execution_count": 31,
   "id": "616d8468",
   "metadata": {},
   "outputs": [
    {
     "name": "stdout",
     "output_type": "stream",
     "text": [
      "              precision    recall  f1-score   support\n",
      "\n",
      "           0       1.00      1.00      1.00     40296\n",
      "           1       1.00      0.75      0.86       633\n",
      "\n",
      "    accuracy                           1.00     40929\n",
      "   macro avg       1.00      0.88      0.93     40929\n",
      "weighted avg       1.00      1.00      1.00     40929\n",
      "\n",
      "[[40294     2]\n",
      " [  157   476]]\n"
     ]
    }
   ],
   "source": [
    "grid_predictions = rfcCV.predict(X_val) \n",
    "rfcCV.best_params_\n",
    "print(classification_report(y_val, grid_predictions)) \n",
    "print(confusion_matrix(y_val, grid_predictions))"
   ]
  },
  {
   "cell_type": "code",
   "execution_count": 32,
   "id": "a16b3600",
   "metadata": {},
   "outputs": [],
   "source": [
    "### Gradient Boosting"
   ]
  },
  {
   "cell_type": "code",
   "execution_count": 35,
   "id": "e327297f",
   "metadata": {},
   "outputs": [],
   "source": [
    "param_grid = {\n",
    "    'n_estimators': [25, 50, 100],\n",
    "    'learning_rate': [0.01, 0.05, 0.1],\n",
    "    'max_depth': [3, 5, 7],\n",
    "    'min_samples_split': [2, 5, 10],\n",
    "    'min_samples_leaf': [1, 2, 4],\n",
    "    'subsample': [0.8, 1.0],\n",
    "    'max_features': ['auto', 'sqrt']\n",
    "}\n"
   ]
  },
  {
   "cell_type": "code",
   "execution_count": null,
   "id": "de20c2d4",
   "metadata": {},
   "outputs": [],
   "source": [
    "gbt = GradientBoostingClassifier()\n",
    "gbt = GridSearchCV(estimator=gbt, param_grid=param_grid, cv= 3)\n",
    "gbt.fit(X_train, y_train)"
   ]
  },
  {
   "cell_type": "code",
   "execution_count": null,
   "id": "24cc71a8",
   "metadata": {},
   "outputs": [],
   "source": [
    "grid_predictions = gbt.predict(X_val) \n",
    "print(classification_report(y_val, grid_predictions)) \n",
    "print(confusion_matrix(y_val, grid_predictions))\n",
    "print(\"Best Parameters for GBT:\", gbt.best_params_)"
   ]
  },
  {
   "cell_type": "code",
   "execution_count": null,
   "id": "c0a55ce2",
   "metadata": {},
   "outputs": [],
   "source": [
    "### XGBoost"
   ]
  },
  {
   "cell_type": "code",
   "execution_count": null,
   "id": "582fb619",
   "metadata": {},
   "outputs": [],
   "source": [
    "param_grid_xgb = {\n",
    "    'min_child_weight': [40, 50, 60],\n",
    "    'max_delta_step': [0, 1, 2],\n",
    "    'learning_rate': [0.01, 0.05, 0.1],\n",
    "    'max_depth': [5, 10, 15],\n",
    "    'n_estimators': [25, 50, 100],\n",
    "}\n"
   ]
  },
  {
   "cell_type": "code",
   "execution_count": null,
   "id": "1a1f057a",
   "metadata": {},
   "outputs": [],
   "source": [
    "xgb = XGBClassifier()\n",
    "grid_search_xgb = GridSearchCV(estimator=xgb, param_grid=param_grid_xgb, cv=3)\n",
    "grid_search_xgb.fit(X_train, y_train)"
   ]
  },
  {
   "cell_type": "code",
   "execution_count": null,
   "id": "1e514a60",
   "metadata": {},
   "outputs": [],
   "source": [
    "best_params_xgb = grid_search_xgb.best_params_\n",
    "grid_predictions_xgb = best_estimator_xgb.predict(X_val)\n",
    "print(classification_report(y_val, grid_predictions_xgb, zero_division=0)) \n",
    "print(confusion_matrix(y_val, grid_predictions_xgb))\n",
    "print(\"Best Parameters for XGBoost:\", best_params_xgb)"
   ]
  },
  {
   "cell_type": "code",
   "execution_count": null,
   "id": "ae4a6164",
   "metadata": {},
   "outputs": [],
   "source": [
    "### LightGBM"
   ]
  },
  {
   "cell_type": "code",
   "execution_count": null,
   "id": "1209e29d",
   "metadata": {},
   "outputs": [],
   "source": [
    "param_grid = {\n",
    "    'min_child_weight': [40, 50, 60],\n",
    "    'max_delta_step': [0, 1, 2],\n",
    "    'num_leaves': [20, 30, 40],\n",
    "    'learning_rate': [0.01, 0.05, 0.1],\n",
    "    'max_depth': [5, 10, 15],\n",
    "    'n_estimators': [25, 50, 100],\n",
    "}"
   ]
  },
  {
   "cell_type": "code",
   "execution_count": null,
   "id": "6ef40bb8",
   "metadata": {},
   "outputs": [],
   "source": [
    "light = lgb.LGBMClassifier()\n",
    "light = GridSearchCV(mdl, param_grid, verbose=1, cv=3, n_jobs=-1)\n",
    "light.fit(x_train, y_train)"
   ]
  },
  {
   "cell_type": "code",
   "execution_count": null,
   "id": "0a62be64",
   "metadata": {},
   "outputs": [],
   "source": [
    "grid_predictions = light.predict(X_val) \n",
    "print(classification_report(y_val, grid_predictions, zero_division=0)) \n",
    "print(confusion_matrix(y_val, grid_predictions))\n",
    "print(\"Best Parameters for LGBM:\", light.best_params_)"
   ]
  },
  {
   "cell_type": "code",
   "execution_count": null,
   "id": "744dadad",
   "metadata": {},
   "outputs": [],
   "source": []
  },
  {
   "cell_type": "code",
   "execution_count": null,
   "id": "0c947b27",
   "metadata": {},
   "outputs": [],
   "source": []
  }
 ],
 "metadata": {
  "kernelspec": {
   "display_name": "Python 3",
   "language": "python",
   "name": "python3"
  }
 },
 "nbformat": 4,
 "nbformat_minor": 5
}
