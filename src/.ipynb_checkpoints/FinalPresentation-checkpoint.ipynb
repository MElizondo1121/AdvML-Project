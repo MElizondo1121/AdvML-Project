{
 "cells": [
  {
   "cell_type": "code",
   "execution_count": 2,
   "id": "380ed09c",
   "metadata": {},
   "outputs": [],
   "source": [
    "import pandas as pd\n",
    "import numpy as np\n",
    "import seaborn as sns\n",
    "import matplotlib.pyplot as plt\n",
    "\n",
    "import warnings\n",
    "warnings.filterwarnings(\"ignore\")"
   ]
  },
  {
   "cell_type": "code",
   "execution_count": 3,
   "id": "e5a0acf9",
   "metadata": {},
   "outputs": [],
   "source": [
    "train = pd.read_csv('../data/train_processed.csv', header=0)\n",
    "test = pd.read_csv('../data/test_processed.csv', header=0)"
   ]
  },
  {
   "cell_type": "code",
   "execution_count": null,
   "id": "ae4014a6",
   "metadata": {},
   "outputs": [],
   "source": [
    "sampling = pd.read_csv('../data/samplingResults.csv', header=0)\n",
    "ensemble = pd.read_csv('../data/metricsEnsembleTabNet.csv', header=0)"
   ]
  }
 ],
 "metadata": {
  "kernelspec": {
   "display_name": "Python 3",
   "language": "python",
   "name": "python3"
  },
  "language_info": {
   "codemirror_mode": {
    "name": "ipython",
    "version": 3
   },
   "file_extension": ".py",
   "mimetype": "text/x-python",
   "name": "python",
   "nbconvert_exporter": "python",
   "pygments_lexer": "ipython3",
   "version": "3.7.0"
  }
 },
 "nbformat": 4,
 "nbformat_minor": 5
}
