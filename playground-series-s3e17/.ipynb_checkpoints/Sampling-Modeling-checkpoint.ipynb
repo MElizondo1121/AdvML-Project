{
 "cells": [
  {
   "cell_type": "markdown",
   "id": "d1995ad7",
   "metadata": {},
   "source": [
    "Final Project Group 13\n",
    "Aakash Raj Dhakal\n",
    "Mirna Elizondo\n"
   ]
  },
  {
   "cell_type": "markdown",
   "id": "1700709a",
   "metadata": {},
   "source": [
    "### Expected Outcomes\n",
    "In this advanced machine learning project, the goal is to develop a robust predictive model for machine failures, which can have far-reaching benefits. By accurately predicting machine failures before they occur, businesses can enhance reliability, reduce costs, and improve maintenance strategies. This data-driven approach empowers decision-makers to optimize operations and gain a competitive advantage. Furthermore, it contributes to sustainability efforts by minimizing resource consumption and waste generation. In summary, the successful implementation of this model has the potential to revolutionize machinery management, driving efficiency, cost savings, and environmental responsibility.\n",
    "\n",
    "### Methods:\n",
    "Baseline: SVM\n",
    "\n",
    "Advanced:\n",
    "\n",
    "    1. RFC\n",
    "    2. GBC\n",
    "    3. LGBM\n",
    "    \n",
    "### Measures\n",
    " - Accuracy\n",
    " - Precision\n",
    " - Recall\n",
    " - F1 Score\n",
    " - AUC-ROC"
   ]
  },
  {
   "cell_type": "code",
   "execution_count": 1,
   "id": "587099a9",
   "metadata": {},
   "outputs": [],
   "source": [
    "import pandas as pd\n",
    "import seaborn as sns\n",
    "import matplotlib.pyplot as plt\n",
    "import numpy as np\n",
    "from sklearn.preprocessing import RobustScaler\n",
    "from sklearn.preprocessing import StandardScaler\n",
    "from sklearn.metrics import classification_report, confusion_matrix \n",
    "from sklearn.svm import SVC\n",
    "from sklearn.model_selection import train_test_split\n",
    "from sklearn.model_selection import GridSearchCV\n",
    "from sklearn.ensemble import RandomForestClassifier\n",
    "from sklearn.ensemble import GradientBoostingClassifier\n"
   ]
  },
  {
   "cell_type": "code",
   "execution_count": 2,
   "id": "2c48acec",
   "metadata": {},
   "outputs": [],
   "source": [
    "train = pd.read_csv('train.csv', header=0)\n",
    "test = pd.read_csv('test.csv', header=0)"
   ]
  },
  {
   "cell_type": "code",
   "execution_count": 3,
   "id": "9a650f80",
   "metadata": {},
   "outputs": [],
   "source": [
    "train = train.reindex(columns=['id', 'Product ID', 'Type', 'Air temperature [K]',\n",
    "       'Process temperature [K]', 'Rotational speed [rpm]', 'Torque [Nm]',\n",
    "       'Tool wear [min]', 'TWF', 'HDF', 'PWF', 'OSF',\n",
    "       'RNF', 'Machine failure'])\n",
    "test = test.reindex(columns=['id', 'Product ID', 'Type', 'Air temperature [K]',\n",
    "       'Process temperature [K]', 'Rotational speed [rpm]', 'Torque [Nm]',\n",
    "       'Tool wear [min]', 'TWF', 'HDF', 'PWF', 'OSF',\n",
    "       'RNF', 'Machine failure'])"
   ]
  },
  {
   "cell_type": "code",
   "execution_count": 4,
   "id": "c0cbbb73",
   "metadata": {},
   "outputs": [
    {
     "name": "stdout",
     "output_type": "stream",
     "text": [
      "(136429, 14)\n",
      "(90954, 14)\n"
     ]
    }
   ],
   "source": [
    "print(train.shape)\n",
    "print(test.shape)"
   ]
  },
  {
   "cell_type": "code",
   "execution_count": 5,
   "id": "2b5accfd",
   "metadata": {
    "scrolled": true
   },
   "outputs": [
    {
     "data": {
      "text/plain": [
       "id                           int64\n",
       "Product ID                  object\n",
       "Type                        object\n",
       "Air temperature [K]        float64\n",
       "Process temperature [K]    float64\n",
       "Rotational speed [rpm]       int64\n",
       "Torque [Nm]                float64\n",
       "Tool wear [min]              int64\n",
       "TWF                          int64\n",
       "HDF                          int64\n",
       "PWF                          int64\n",
       "OSF                          int64\n",
       "RNF                          int64\n",
       "Machine failure              int64\n",
       "dtype: object"
      ]
     },
     "execution_count": 5,
     "metadata": {},
     "output_type": "execute_result"
    }
   ],
   "source": [
    "train.dtypes"
   ]
  },
  {
   "cell_type": "code",
   "execution_count": 6,
   "id": "8bb4742f",
   "metadata": {},
   "outputs": [],
   "source": [
    "target = 'Machine failure'\n",
    "cat_features = ['Type', 'TWF', 'HDF',\n",
    "                   'PWF', 'OSF','RNF', 'Tool wear [min]']\n",
    "num_features = ['Product ID', 'Air temperature [K]', 'Process temperature [K]', \n",
    "                         'Rotational speed [rpm]', 'Torque [Nm]']"
   ]
  },
  {
   "cell_type": "code",
   "execution_count": 7,
   "id": "493d0aa0",
   "metadata": {},
   "outputs": [],
   "source": [
    "train = pd.get_dummies(train, columns= cat_features, dtype=int).fillna(0).drop('Product ID', axis=1)\n",
    "test = pd.get_dummies(test, columns= cat_features, dtype=int).fillna(0).drop('Product ID', axis=1)\n"
   ]
  },
  {
   "cell_type": "code",
   "execution_count": 8,
   "id": "6dd19310",
   "metadata": {},
   "outputs": [
    {
     "name": "stdout",
     "output_type": "stream",
     "text": [
      "Occurrences of Machine Failure:\n",
      "Value 0: 134281\n",
      "Value 1: 2148\n"
     ]
    }
   ],
   "source": [
    "failure_counts = train['Machine failure'].value_counts()\n",
    "\n",
    "# Print the counts\n",
    "print(\"Occurrences of Machine Failure:\")\n",
    "print(\"Value 0:\", failure_counts[0])\n",
    "print(\"Value 1:\", failure_counts[1])\n",
    "\n",
    "X = train.drop(['id', 'Machine failure'], axis=1)\n",
    "y = train['Machine failure'].values\n",
    "X_test = test.drop(['id', 'Machine failure'], axis=1)"
   ]
  },
  {
   "cell_type": "code",
   "execution_count": 14,
   "id": "813aa59f",
   "metadata": {},
   "outputs": [],
   "source": [
    "X_train, X_temp, y_train, y_temp = train_test_split(X, y, test_size=0.3, random_state=42, stratify=y)"
   ]
  },
  {
   "cell_type": "code",
   "execution_count": null,
   "id": "7824ce97",
   "metadata": {},
   "outputs": [],
   "source": [
    "model = SVC() \n",
    "model.fit(X_train, y_train) \n",
    "  \n",
    "# print prediction results \n",
    "svc_predictions = model.predict(X_temp) \n",
    "print(classification_report(y_temp, svc_predictions))\n",
    "print(confusion_matrix(y_temp, svc_predictions))"
   ]
  },
  {
   "cell_type": "code",
   "execution_count": null,
   "id": "c7241a64",
   "metadata": {},
   "outputs": [],
   "source": [
    "X_train, X_temp, y_train, y_temp = train_test_split(X, y, test_size=0.3, random_state=42, stratify=y)"
   ]
  },
  {
   "cell_type": "code",
   "execution_count": null,
   "id": "fa4b6ad1",
   "metadata": {},
   "outputs": [],
   "source": [
    "rfc= RandomForestClassifier(random_state=42)\n",
    "rfc.fit(X_train, y_train)\n",
    "rfc_predictions = rfc.predict(X_temp) \n",
    "print(classification_report(y_temp, rfc_predictions))\n",
    "print(confusion_matrix(y_temp, rfc_predictions))"
   ]
  },
  {
   "cell_type": "code",
   "execution_count": null,
   "id": "1a74bec7",
   "metadata": {},
   "outputs": [],
   "source": [
    "X_train, X_temp, y_train, y_temp = train_test_split(X, y, test_size=0.3, random_state=42, stratify=y)"
   ]
  },
  {
   "cell_type": "code",
   "execution_count": null,
   "id": "138743b7",
   "metadata": {},
   "outputs": [],
   "source": [
    "gbt = GradientBoostingClassifier(learning_rate=0.1, n_estimators=100,max_depth=3, min_samples_split=2, min_samples_leaf=1, subsample=1,max_features='sqrt', random_state=10)\n",
    "gbt.fit(X_train,y_train)\n",
    "gbt_predictions = gbt.predict(X_temp) \n",
    "print(classification_report(y_temp, gbt_predictions))\n",
    "print(confusion_matrix(y_temp, gbt_predictions))"
   ]
  },
  {
   "cell_type": "code",
   "execution_count": null,
   "id": "8de04afa",
   "metadata": {},
   "outputs": [],
   "source": []
  },
  {
   "cell_type": "code",
   "execution_count": null,
   "id": "dfc73970",
   "metadata": {},
   "outputs": [],
   "source": []
  },
  {
   "cell_type": "code",
   "execution_count": null,
   "id": "fefe8573",
   "metadata": {},
   "outputs": [],
   "source": []
  },
  {
   "cell_type": "code",
   "execution_count": null,
   "id": "4b750a3a",
   "metadata": {},
   "outputs": [],
   "source": []
  },
  {
   "cell_type": "code",
   "execution_count": null,
   "id": "37dd1c5b",
   "metadata": {},
   "outputs": [],
   "source": []
  },
  {
   "cell_type": "code",
   "execution_count": null,
   "id": "a0487677",
   "metadata": {},
   "outputs": [],
   "source": []
  }
 ],
 "metadata": {
  "kernelspec": {
   "display_name": "Python 3",
   "language": "python",
   "name": "python3"
  }
 },
 "nbformat": 4,
 "nbformat_minor": 5
}
